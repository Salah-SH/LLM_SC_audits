{
  "cells": [
    {
      "cell_type": "code",
      "execution_count": null,
      "id": "5f0dd26c",
      "metadata": {
        "id": "5f0dd26c"
      },
      "outputs": [],
      "source": [
        "!git clone https://github.com/eric88525/Gpt-Selenium.git"
      ]
    },
    {
      "cell_type": "code",
      "execution_count": null,
      "id": "397380f5",
      "metadata": {
        "scrolled": false,
        "id": "397380f5"
      },
      "outputs": [],
      "source": [
        "!pip install -r Gpt-Selenium/requirements.txt"
      ]
    },
    {
      "cell_type": "code",
      "execution_count": null,
      "id": "da409813",
      "metadata": {
        "id": "da409813"
      },
      "outputs": [],
      "source": [
        "import pandas as pd\n",
        "import time\n",
        "import os"
      ]
    },
    {
      "cell_type": "code",
      "execution_count": null,
      "id": "43a127f3",
      "metadata": {
        "id": "43a127f3"
      },
      "outputs": [],
      "source": [
        "from selenium.webdriver.remote.webdriver import By\n",
        "import undetected_chromedriver as uc\n",
        "from selenium.webdriver.common.keys import Keys\n",
        "\n",
        "class gptParser:\n",
        "    def __init__(self,\n",
        "                 driver,\n",
        "                 gpt_url: str = 'https://chat.openai.com/?model=gpt-4-code-interpreter'):\n",
        "        \"\"\" ChatGPT parser\n",
        "        Args:\n",
        "            driver_path (str, optional): The path of the chromedriver.\n",
        "            gpt_url (str, optional): The url of ChatGPT.\n",
        "        \"\"\"\n",
        "        # Start a webdriver instance and open ChatGPT\n",
        "        self.gpt_url=gpt_url\n",
        "        self.driver = driver\n",
        "        self.driver.get(gpt_url)\n",
        "\n",
        "    @staticmethod\n",
        "    def get_driver(driver_path: str = None,):\n",
        "        return uc.Chrome() if driver_path is None else uc.Chrome(driver_path)\n",
        "\n",
        "    def __call__(self, query: str):\n",
        "        # Find the input field and send a question\n",
        "        input_field = self.driver.find_element(\n",
        "            By.XPATH, '//*[@id=\"prompt-textarea\"]')\n",
        "        input_field.send_keys(query)\n",
        "        input_field.send_keys(Keys.RETURN)\n",
        "        #self.driver.find_element(By.XPATH,'//*[@id=\"__next\"]/div[1]/div[2]/div/main/div[2]/form/div/div/button/span/svg').click()\n",
        "        #input_field.send_keys(Keys.RETURN)\n",
        "\n",
        "    def read_respond(self):\n",
        "        try:\n",
        "            response=self.driver.find_elements(By.XPATH,'//*[@id=\"__next\"]/div[1]/div[2]/div/main/div[1]/div/div/div/div[2]/div')[0].text\n",
        "            #response = self.driver.find_elements(By.TAG_NAME, 'p')[-2].text\n",
        "            #response = self.driver.find_elements(By.XPATH, '//*[@id=\"__next\"]/div[1]/div/div/main/div[2]/div/div/div/div[2]/div/div[2]/div[1]/div')[0].text\n",
        "            return response\n",
        "        except Exception as e:\n",
        "            print(\"An error occurred:\", e)\n",
        "            return None\n",
        "\n",
        "    def new_chat(self):\n",
        "        self.driver.get(self.gpt_url)\n",
        "        \"\"\"Open a new chat\"\"\"\n",
        "        #self.driver.find_element(By.XPATH, '//a[text()=\"New chat\"]').click()\n",
        "\n",
        "    def close(self):\n",
        "        self.driver.quit()"
      ]
    },
    {
      "cell_type": "code",
      "execution_count": null,
      "id": "b10bc286",
      "metadata": {
        "id": "b10bc286"
      },
      "outputs": [],
      "source": [
        "# folder_path = r'C:\\Users\\16225\\call_code'\n",
        "folder_path=r'./'\n",
        "file_list = os.listdir(folder_path)"
      ]
    },
    {
      "cell_type": "code",
      "execution_count": null,
      "id": "4dfcb482",
      "metadata": {
        "id": "4dfcb482",
        "outputId": "6dc858e5-9952-48d9-c93a-145e1ea408fd",
        "colab": {
          "base_uri": "https://localhost:8080/"
        }
      },
      "outputs": [
        {
          "output_type": "execute_result",
          "data": {
            "text/plain": [
              "['.config', 'Gpt-Selenium', 'PartyGovernance.sol.output.csv', 'sample_data']"
            ]
          },
          "metadata": {},
          "execution_count": 8
        }
      ],
      "source": [
        "file_list"
      ]
    },
    {
      "cell_type": "code",
      "execution_count": null,
      "id": "e264cae7",
      "metadata": {
        "id": "e264cae7"
      },
      "outputs": [],
      "source": [
        "questions=pd.read_csv(\"C:\\\\Users\\\\16225\\\\call_code\\\\UniswapV2Router02.sol_output.csv\")\n",
        "for i in range(len(questions)):\n",
        "    print(questions.loc[i][0])\n",
        "    print(\"___________\")\n",
        "    print(len(questions.loc[i][0]))\n",
        "    print(\"__________\")\n",
        "    print(type(questions.loc[i][0]))\n",
        "    break"
      ]
    },
    {
      "cell_type": "code",
      "execution_count": null,
      "id": "e5b4ea20",
      "metadata": {
        "id": "e5b4ea20"
      },
      "outputs": [],
      "source": [
        "def get_inputs(outputfile):\n",
        "    questions=pd.read_csv(f\"{outputfile}\",)\n",
        "    inputs=[]\n",
        "    shorts=[]\n",
        "    codes=[]\n",
        "    for i in range(len(questions)):\n",
        "        if ('\\n' in questions.loc[i][0]) or (\"Does not have\" not in questions.loc[i][0]):\n",
        "            codes.append(questions.loc[i][0])\n",
        "            question=questions.loc[i][0]+\"Understand this code and analyze it, respond me in this format  (fill in the part with ___): 1. Is there any vulnerabilities? give me a short answer in the beginning of your response,choose one from the following three: yes, no, or not sure. If your answer is no, stop here; If your choice is yes, 2. Proof of concept of this vulnerabilities:_______. 3. The business impact of this vulnerabilities in one sentence: ___ function leads to _____. 4.The potential solutions of this vulnerabilities:_________. Note: You can state more than one lines which have this vulnerability! This is a short extraction of the solidity code and please assume all the variables in this code have been defined. Please ignore the spelling problem.\"\n",
        "            question=question.replace('\\n','')\n",
        "            inputs.append(question)\n",
        "        else:\n",
        "            question=questions.loc[i][0]\n",
        "            shorts.append(question)\n",
        "    return inputs,shorts,codes"
      ]
    },
    {
      "cell_type": "code",
      "execution_count": null,
      "id": "a138ff55",
      "metadata": {
        "id": "a138ff55"
      },
      "outputs": [],
      "source": [
        "pd.DataFrame(codesall).T.to_csv(\"codesall.csv\")"
      ]
    },
    {
      "cell_type": "code",
      "source": [
        "!pip install gpt_parser"
      ],
      "metadata": {
        "id": "cxCa6BuWKhH9"
      },
      "id": "cxCa6BuWKhH9",
      "execution_count": null,
      "outputs": []
    },
    {
      "cell_type": "code",
      "execution_count": null,
      "id": "2c02c635",
      "metadata": {
        "id": "2c02c635"
      },
      "outputs": [],
      "source": [
        "import time\n",
        "from gpt_parser import GPTParser\n",
        "dirver = gptParser.get_driver()\n",
        "gpt = gptParser(driver=dirver)"
      ]
    },
    {
      "cell_type": "code",
      "execution_count": null,
      "id": "9188919d",
      "metadata": {
        "id": "9188919d"
      },
      "outputs": [],
      "source": [
        "answer=[]\n",
        "fail=[]\n",
        "answerall=[]\n",
        "failall=[]\n",
        "for outputfile in file_list:\n",
        "    inputs=get_inputs(outputfile)[0]\n",
        "    print(len(inputs))\n",
        "    for i in range(len(inputs)):\n",
        "        answer=[]\n",
        "        gpt.new_chat() # Open a new chat\n",
        "        time.sleep(5)\n",
        "        inputs[i]=inputs[i].replace(\"\\t\",\"\")\n",
        "        gpt(inputs[i]) # Send a question\n",
        "        print(i)\n",
        "        time.sleep(40) # Wait for the response\n",
        "        print(gpt.read_respond())\n",
        "        answer.append(gpt.read_respond())\n",
        "\n",
        "        if gpt.read_respond()==None:\n",
        "            fail.append((i,inputs[i]))\n",
        "\n",
        "    answerall.append(answer)\n",
        "    failall.append(fail)\n",
        "#gpt.close() # Close the driver"
      ]
    },
    {
      "cell_type": "code",
      "execution_count": null,
      "id": "d3aeeed2",
      "metadata": {
        "id": "d3aeeed2"
      },
      "outputs": [],
      "source": [
        "answerall.append(answer)"
      ]
    },
    {
      "cell_type": "code",
      "execution_count": null,
      "id": "c13fdb57",
      "metadata": {
        "id": "c13fdb57"
      },
      "outputs": [],
      "source": [
        "pd.DataFrame(answerall).to_csv(\"answer017191020.csv\")"
      ]
    },
    {
      "cell_type": "code",
      "execution_count": null,
      "id": "c8e11adc",
      "metadata": {
        "id": "c8e11adc"
      },
      "outputs": [],
      "source": [
        "answerall.append(answer)"
      ]
    },
    {
      "cell_type": "code",
      "execution_count": null,
      "id": "59616ca3",
      "metadata": {
        "id": "59616ca3",
        "outputId": "e0e5e4d4-b427-44b3-d5cd-5e3d7850afc3"
      },
      "outputs": [
        {
          "data": {
            "text/plain": [
              "[[], []]"
            ]
          },
          "execution_count": 36,
          "metadata": {},
          "output_type": "execute_result"
        }
      ],
      "source": [
        "failall"
      ]
    }
  ],
  "metadata": {
    "kernelspec": {
      "display_name": "Python 3 (ipykernel)",
      "language": "python",
      "name": "python3"
    },
    "language_info": {
      "codemirror_mode": {
        "name": "ipython",
        "version": 3
      },
      "file_extension": ".py",
      "mimetype": "text/x-python",
      "name": "python",
      "nbconvert_exporter": "python",
      "pygments_lexer": "ipython3",
      "version": "3.10.9"
    },
    "colab": {
      "provenance": []
    }
  },
  "nbformat": 4,
  "nbformat_minor": 5
}